{
 "cells": [
  {
   "cell_type": "code",
   "execution_count": 2,
   "metadata": {},
   "outputs": [
    {
     "name": "stdout",
     "output_type": "stream",
     "text": [
      "[['', 'year', 'month', 'intent', 'police', 'sex', 'age', 'race', 'hispanic', 'place', 'education'], ['1', '2012', '01', 'Suicide', '0', 'M', '34', 'Asian/Pacific Islander', '100', 'Home', '4'], ['2', '2012', '01', 'Suicide', '0', 'F', '21', 'White', '100', 'Street', '3'], ['3', '2012', '01', 'Suicide', '0', 'M', '60', 'White', '100', 'Other specified', '4'], ['4', '2012', '02', 'Suicide', '0', 'M', '64', 'White', '100', 'Home', '4']]\n"
     ]
    }
   ],
   "source": [
    "#Using data from FiveThirtyEight, which can be found https://github.com/fivethirtyeight/guns-data\n",
    "import csv\n",
    "with open(\"guns.csv\", \"r\") as f:\n",
    "    data1=list(csv.reader(f))\n",
    "    print(data1[:5])"
   ]
  },
  {
   "cell_type": "code",
   "execution_count": 3,
   "metadata": {},
   "outputs": [
    {
     "name": "stdout",
     "output_type": "stream",
     "text": [
      "[['1', '2012', '01', 'Suicide', '0', 'M', '34', 'Asian/Pacific Islander', '100', 'Home', '4'], ['2', '2012', '01', 'Suicide', '0', 'F', '21', 'White', '100', 'Street', '3'], ['3', '2012', '01', 'Suicide', '0', 'M', '60', 'White', '100', 'Other specified', '4'], ['4', '2012', '02', 'Suicide', '0', 'M', '64', 'White', '100', 'Home', '4'], ['5', '2012', '02', 'Suicide', '0', 'M', '31', 'White', '100', 'Other specified', '2']]\n"
     ]
    }
   ],
   "source": [
    "data=data1[1:] # Discard the header\n",
    "print(data[:5])"
   ]
  },
  {
   "cell_type": "code",
   "execution_count": 4,
   "metadata": {},
   "outputs": [
    {
     "name": "stdout",
     "output_type": "stream",
     "text": [
      "{'2014': 33599, '2013': 33636, '2012': 33563}\n"
     ]
    }
   ],
   "source": [
    "# How many deaths occurred in each year?\n",
    "year_counts={}\n",
    "for i, k in enumerate(data):\n",
    "    if k[1] not in year_counts:\n",
    "        year_counts[k[1]]=1\n",
    "    else:\n",
    "        year_counts[k[1]]+=1\n",
    "print(year_counts)"
   ]
  },
  {
   "cell_type": "code",
   "execution_count": 6,
   "metadata": {},
   "outputs": [
    {
     "name": "stdout",
     "output_type": "stream",
     "text": [
      "['01/01/12', '01/01/12', '01/01/12', '02/01/12', '02/01/12']\n"
     ]
    }
   ],
   "source": [
    "#Gun deaths in each unique date\n",
    "import datetime\n",
    "dates=[datetime.datetime(year=int(i[1]), month=int(i[2]), day=1).strftime(\"%m/%d/%y\") for i in data]\n",
    "print(dates[:5])"
   ]
  },
  {
   "cell_type": "code",
   "execution_count": 7,
   "metadata": {},
   "outputs": [
    {
     "name": "stdout",
     "output_type": "stream",
     "text": [
      "{'06/01/12': 2826, '03/01/12': 2743, '09/01/14': 2914, '06/01/14': 2931, '03/01/13': 2862, '11/01/12': 2729, '04/01/13': 2798, '10/01/14': 2865, '06/01/13': 2920, '02/01/13': 2375, '12/01/12': 2791, '01/01/13': 2864, '08/01/14': 2970, '09/01/13': 2742, '11/01/13': 2758, '08/01/12': 2954, '02/01/12': 2357, '04/01/14': 2862, '07/01/12': 3026, '02/01/14': 2361, '05/01/14': 2864, '10/01/12': 2733, '12/01/14': 2857, '04/01/12': 2795, '05/01/12': 2999, '08/01/13': 2859, '07/01/13': 3079, '03/01/14': 2684, '07/01/14': 2884, '05/01/13': 2806, '09/01/12': 2852, '12/01/13': 2765, '01/01/12': 2758, '11/01/14': 2756, '01/01/14': 2651, '10/01/13': 2808}\n"
     ]
    }
   ],
   "source": [
    "date_counts={}\n",
    "for i in dates:\n",
    "    if i not in date_counts:\n",
    "        date_counts[i]=1\n",
    "    else:\n",
    "        date_counts[i]+=1\n",
    "print(date_counts)"
   ]
  },
  {
   "cell_type": "code",
   "execution_count": 8,
   "metadata": {},
   "outputs": [
    {
     "name": "stdout",
     "output_type": "stream",
     "text": [
      "{'M': 86349, 'F': 14449}\n",
      "{'Hispanic': 9022, 'Native American/Native Alaskan': 917, 'White': 66237, 'Black': 23296, 'Asian/Pacific Islander': 1326}\n"
     ]
    }
   ],
   "source": [
    "# Gun deaths by sex and race\n",
    "sex_counts={}\n",
    "for i, k in enumerate(data):\n",
    "    if k[5] not in sex_counts:\n",
    "        sex_counts[k[5]]=1\n",
    "    else:\n",
    "        sex_counts[k[5]]+=1\n",
    "print(sex_counts)\n",
    "\n",
    "race_counts={}\n",
    "for i, k in enumerate(data):\n",
    "    if k[7] not in race_counts:\n",
    "        race_counts[k[7]]=1\n",
    "    else:\n",
    "        race_counts[k[7]]+=1\n",
    "print(race_counts)"
   ]
  },
  {
   "cell_type": "code",
   "execution_count": 9,
   "metadata": {},
   "outputs": [
    {
     "data": {
      "text/plain": [
       "[['Id',\n",
       "  'Year',\n",
       "  'Id',\n",
       "  'Sex',\n",
       "  'Id',\n",
       "  'Hispanic Origin',\n",
       "  'Id',\n",
       "  'Id2',\n",
       "  'Geography',\n",
       "  'Total',\n",
       "  'Race Alone - White',\n",
       "  'Race Alone - Hispanic',\n",
       "  'Race Alone - Black or African American',\n",
       "  'Race Alone - American Indian and Alaska Native',\n",
       "  'Race Alone - Asian',\n",
       "  'Race Alone - Native Hawaiian and Other Pacific Islander',\n",
       "  'Two or More Races'],\n",
       " ['cen42010',\n",
       "  'April 1, 2010 Census',\n",
       "  'totsex',\n",
       "  'Both Sexes',\n",
       "  'tothisp',\n",
       "  'Total',\n",
       "  '0100000US',\n",
       "  '',\n",
       "  'United States',\n",
       "  '308745538',\n",
       "  '197318956',\n",
       "  '44618105',\n",
       "  '40250635',\n",
       "  '3739506',\n",
       "  '15159516',\n",
       "  '674625',\n",
       "  '6984195']]"
      ]
     },
     "execution_count": 9,
     "metadata": {},
     "output_type": "execute_result"
    }
   ],
   "source": [
    "# Rate of gun deaths per 100000 people of each race.\n",
    "with open(\"census.csv\", \"r\") as f:\n",
    "    census = list(csv.reader(f))  \n",
    "census"
   ]
  },
  {
   "cell_type": "code",
   "execution_count": 10,
   "metadata": {},
   "outputs": [
    {
     "data": {
      "text/plain": [
       "{'Asian/Pacific Islander': 15834141,\n",
       " 'Black': 40250635,\n",
       " 'Hispanic': 44618105,\n",
       " 'Native American/Native Alaskan': 3739506,\n",
       " 'White': 197318956}"
      ]
     },
     "execution_count": 10,
     "metadata": {},
     "output_type": "execute_result"
    }
   ],
   "source": [
    "# Race definitions are slightly different in Census data. For this reason, we will map each race to its corresponding value\n",
    "mapping={\n",
    "    \"Asian/Pacific Islander\": int(census[1][14]) + int(census[1][15]),\n",
    "    \"Native American/Native Alaskan\": int(census[1][13]),\n",
    "    \"Black\": int(census[1][12]),\n",
    "    \"Hispanic\": int(census[1][11]),\n",
    "    \"White\": int(census[1][10])\n",
    "    \n",
    "}\n",
    "mapping"
   ]
  },
  {
   "cell_type": "code",
   "execution_count": 11,
   "metadata": {},
   "outputs": [
    {
     "data": {
      "text/plain": [
       "{'Asian/Pacific Islander': 8.374309664161762,\n",
       " 'Black': 57.8773477735196,\n",
       " 'Hispanic': 20.220491210910907,\n",
       " 'Native American/Native Alaskan': 24.521955573811088,\n",
       " 'White': 33.56849303419181}"
      ]
     },
     "execution_count": 11,
     "metadata": {},
     "output_type": "execute_result"
    }
   ],
   "source": [
    "rate = {}\n",
    "for k,v in race_counts.items():\n",
    "    rate[k] = (v / mapping[k]) * 100000\n",
    "rate"
   ]
  },
  {
   "cell_type": "code",
   "execution_count": 12,
   "metadata": {},
   "outputs": [],
   "source": [
    "# Murder and Race\n",
    "#Murder by race\n",
    "intents=[i[3] for i in data]\n",
    "races=[i[7] for i in data]"
   ]
  },
  {
   "cell_type": "code",
   "execution_count": 13,
   "metadata": {},
   "outputs": [],
   "source": [
    "homicide_race_counts ={}\n",
    "for i, race in enumerate(races):\n",
    "    if intents[i] == \"Homicide\":\n",
    "        if race not in homicide_race_counts:\n",
    "            homicide_race_counts[race]=1\n",
    "        else:\n",
    "            homicide_race_counts[race] +=1   "
   ]
  },
  {
   "cell_type": "code",
   "execution_count": 14,
   "metadata": {},
   "outputs": [
    {
     "data": {
      "text/plain": [
       "{'Asian/Pacific Islander': 559,\n",
       " 'Black': 19510,\n",
       " 'Hispanic': 5634,\n",
       " 'Native American/Native Alaskan': 326,\n",
       " 'White': 9147}"
      ]
     },
     "execution_count": 14,
     "metadata": {},
     "output_type": "execute_result"
    }
   ],
   "source": [
    "homicide_race_counts"
   ]
  },
  {
   "cell_type": "code",
   "execution_count": 15,
   "metadata": {},
   "outputs": [
    {
     "data": {
      "text/plain": [
       "{'Asian/Pacific Islander': 3.530346230970155,\n",
       " 'Black': 48.471284987180944,\n",
       " 'Hispanic': 12.627161104219914,\n",
       " 'Native American/Native Alaskan': 8.717729026240365,\n",
       " 'White': 4.6356417981453335}"
      ]
     },
     "execution_count": 15,
     "metadata": {},
     "output_type": "execute_result"
    }
   ],
   "source": [
    "homicide_race_rate = {}\n",
    "for k,v in homicide_race_counts.items():\n",
    "    homicide_race_rate[k] = (v / mapping[k]) * 100000\n",
    "homicide_race_rate"
   ]
  },
  {
   "cell_type": "code",
   "execution_count": null,
   "metadata": {},
   "outputs": [],
   "source": []
  }
 ],
 "metadata": {
  "kernelspec": {
   "display_name": "Python [default]",
   "language": "python",
   "name": "python3"
  },
  "language_info": {
   "codemirror_mode": {
    "name": "ipython",
    "version": 3
   },
   "file_extension": ".py",
   "mimetype": "text/x-python",
   "name": "python",
   "nbconvert_exporter": "python",
   "pygments_lexer": "ipython3",
   "version": "3.5.4"
  }
 },
 "nbformat": 4,
 "nbformat_minor": 1
}
